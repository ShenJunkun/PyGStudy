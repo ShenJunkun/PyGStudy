{
 "cells": [
  {
   "attachments": {},
   "cell_type": "markdown",
   "metadata": {},
   "source": [
    "### 把sparse tensor转为邻接矩阵"
   ]
  },
  {
   "cell_type": "code",
   "execution_count": 2,
   "metadata": {},
   "outputs": [
    {
     "name": "stdout",
     "output_type": "stream",
     "text": [
      "tensor([0, 1, 1, 2])\n",
      "tensor([1, 0, 2, 1])\n",
      "SparseTensor(row=tensor([0, 1, 1, 2]),\n",
      "             col=tensor([1, 0, 2, 1]),\n",
      "             val=tensor([1, 2, 3, 4]),\n",
      "             size=(3, 3), nnz=4, density=44.44%)\n",
      "tensor([[0, 1, 0],\n",
      "        [2, 0, 3],\n",
      "        [0, 4, 0]])\n",
      "(tensor([0, 1, 3, 4]), tensor([1, 0, 2, 1]), tensor([1, 2, 3, 4]))\n"
     ]
    }
   ],
   "source": [
    "from torch_sparse import SparseTensor\n",
    "import torch\n",
    "# 创建一个稀疏矩阵\n",
    "row_indices = torch.tensor([0, 1, 1, 2])\n",
    "print(row_indices)\n",
    "col_indices = torch.tensor([1, 0, 2, 1])\n",
    "print(col_indices)\n",
    "values = torch.tensor([1, 2, 3, 4])\n",
    "sparse_tensor = SparseTensor(row=row_indices, col=col_indices, value=values)\n",
    "# SparseTensor( row=tensor([0, 1, 1, 2]),\n",
    "#               col=tensor([1, 0, 2, 1]),\n",
    "#               val=tensor([1, 2, 3, 4]),\n",
    "#               size=(3, 3), nnz=4, density=44.44%)\n",
    "print(sparse_tensor)\n",
    "densor_tensor = sparse_tensor.to_dense()\n",
    "# tensor([[0, 1, 0],\n",
    "#         [2, 0, 3],\n",
    "#         [0, 4, 0]])\n",
    "print(densor_tensor)\n",
    "# 将稀疏矩阵转换为CSR格式\n",
    "csr_tensor = sparse_tensor.csr()\n",
    "# (tensor([0, 1, 3, 4]), tensor([1, 0, 2, 1]), tensor([1, 2, 3, 4]))\n",
    "# 对于CSR格式，包括三个list, 分别是\n",
    "# 行偏移数组（row offsets):     tensor([0, 1, 3, 4]) \n",
    "#           该数组是一个二位数组中每行第一个非0元素在values数组的index。\n",
    "#           大小为（行数+1）\n",
    "# 列索引数组（column indices):  tensor([1, 0, 2, 1]) \n",
    "#           该数组是values数组中每一个元素的列\n",
    "#           大小为values数组的大小\n",
    "# 值数组（values)               tensor([1, 2, 3, 4])\n",
    "\n",
    "print(csr_tensor)"
   ]
  }
 ],
 "metadata": {
  "kernelspec": {
   "display_name": "salient",
   "language": "python",
   "name": "python3"
  },
  "language_info": {
   "codemirror_mode": {
    "name": "ipython",
    "version": 3
   },
   "file_extension": ".py",
   "mimetype": "text/x-python",
   "name": "python",
   "nbconvert_exporter": "python",
   "pygments_lexer": "ipython3",
   "version": "3.9.5"
  },
  "orig_nbformat": 4
 },
 "nbformat": 4,
 "nbformat_minor": 2
}
